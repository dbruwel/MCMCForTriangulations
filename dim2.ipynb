{
 "cells": [
  {
   "cell_type": "markdown",
   "id": "clean-newark",
   "metadata": {},
   "source": [
    "# Full method for $d=2$ (Algorithm 1)\n",
    "\n",
    "This notebook contains a complete working example of Algorithm 1 from the paper \n",
    "\n",
    "<i>Sampling triangulations of manifolds using Monte Carlo methods</i> by <a href=\"https://www.maths.usyd.edu.au/u/ega/\">Eduardo Altmann</a> and <a href=\"https://sites.google.com/view/jonathan-spreer/\">Jonathan Spreer</a>.\n",
    "\n",
    "\n",
    "## Triangulations basics\n",
    "\n",
    "A $d$-dimensional manifold $M$ is a topological space that locally looks like Euclidean $d$-space. A triangulation $T$ of $M$ is a subdivision of $M$ into $d$-simplices glued along their $(d-1)$-dimensional face such that the underlying space $|T|$ of $T$ (the $d$-simplices factored by their gluings) is homeomorphic to $M$.\n",
    "\n",
    "The *face-vector* or *f-vector* $f(T) = (f_0, f_1, f_2, .... , f_d)$ of $T$ stores the number of $i$-dimensional simplices $f_i$ in $T$ in all dimensions $0 \\leq i \\leq d$. \n",
    "\n",
    "Example: The boundary of the tetrahedron $\\Delta$ has face vector $f(\\Delta) = (4,6,4)$.\n",
    "\n",
    "## Regina basics\n",
    "\n",
    "In this file, $T$ is always a triangulation of a surface (or $2$-dimensional manifold) $S$, i.e., a set of triangles, identified along their edges. Data type is `regina.Triangulation2()`. Given a triagnulation `T`, type in `print T.detail()` to obtain an overview of what is stored in `T`, and print `T.fVector()` for its $f$-vector.\n",
    "\n",
    "We can go from one triangulation `T` of $S$ to any other triangulation `T'` of $S$ by applying *Pachner moves* -- local modifications to `T` that change the isomorphism type of `T`, but not the topology of the underlying surface. Pachner moves in dimension two in regina are given by commands \n",
    "\n",
    "- `T.pachner(t)`: Stellar subdivision of triangle `t` into three triangles by placing a new vertex into the center of `t`. This move adds one vertex, three edges, and two triangles to `T` (it replaces `t` by three new triangles).\n",
    "- `T.pachner(e)`: The *edge flip*. In the quadrilateral spanned by the two triangles of `T` containing edge `e`, remove `e` and replace it by the other diagonal `e'` in the quadrilateral. This move leaves the $f$-vector invariant.\n",
    "- `T.pachner(v)`: Inverse of the stellar subdivision `T.pachner(t)`. This move removes vertex `v` to merge three triangles into one.\n",
    "\n",
    "### Usage `c.pachner(face,check,perform)`\n",
    "\n",
    "Rginas functions to perform moves are all organised the same way: a move always returns `True` or `False` on whether or not the operation was allowed / successful. It changes the underlying triangulation (if applicable), and takes as argument the face where the move is performed (the face that is going to be removed from the triangulation), and two booleans as optional arguments. The first one determining whether to check that the move is possible, the second one to determine whether to perform the move.\n",
    "\n",
    "I.e., the command `T.pachner(v,True,False)`  takes as input a triangulation `T` and checks whether vertex `v` is contained in exactly three distinct triangles, returns `True` or `False` accordingly, but does not alter `T`."
   ]
  },
  {
   "cell_type": "code",
   "execution_count": 1,
   "id": "hungry-lindsay",
   "metadata": {
    "tags": []
   },
   "outputs": [],
   "source": [
    "# Imports\n",
    "\n",
    "# for timing\n",
    "import time\n",
    "# for exponential function\n",
    "import math\n",
    "# for random choices\n",
    "import random\n",
    "# import all functions etc. from regina\n",
    "from regina import *"
   ]
  },
  {
   "cell_type": "markdown",
   "id": "46e7a948",
   "metadata": {},
   "source": [
    "### Generate a seed triangulation\n",
    "\n",
    "This function produces a triangulation of the closed orientable surface of genus `g` with `n` triangles."
   ]
  },
  {
   "cell_type": "code",
   "execution_count": 2,
   "id": "rental-software",
   "metadata": {
    "tags": []
   },
   "outputs": [],
   "source": [
    "def surface(g,n):\n",
    "    if n%2 != 0:\n",
    "        print(\"number of triangles must be even\")\n",
    "        return None\n",
    "    if n < 4*g-2:\n",
    "        print(\"a triangulation of a genus\",g,\"closed orientable surface must have at least\",4*g-2,\"triangles\")\n",
    "        return None\n",
    "    \n",
    "    # create empty surface triangulation\n",
    "    s = Triangulation2()\n",
    "    \n",
    "    # Build fundamental domain disk with 4g-2 triangles and boundary a 4g-gon\n",
    "    #\n",
    "    # add first triangle\n",
    "    s.newSimplex()\n",
    "    for i in range(4*g-3):\n",
    "        # add next triangle\n",
    "        s.newSimplex()\n",
    "        # take last two triangles and...\n",
    "        a = s.simplex(s.size()-1)\n",
    "        b = s.simplex(s.size()-2)\n",
    "        # glue them together (gluing face iterates, face 2 gets never glued)\n",
    "        if i%2 == 0:\n",
    "            a.join(0,b,Perm3())\n",
    "        else:\n",
    "            a.join(1,b,Perm3())\n",
    "    \n",
    "    # special case if we have a surface\n",
    "    if g==0:\n",
    "        s.newSimplex()\n",
    "        a = s.simplex(0)\n",
    "        b = s.simplex(1)\n",
    "        a.join(2,b,Perm3())\n",
    "        a.join(1,b,Perm3())\n",
    "        a.join(0,b,Perm3())\n",
    "    # special case if we have a torus\n",
    "    elif g==1:\n",
    "        a = s.simplex(0)\n",
    "        b = s.simplex(1)\n",
    "        a.join(2,b,Perm3(2,0,1))\n",
    "        a.join(1,b,Perm3(1,2,0))\n",
    "    # glue antipodal edges to each other to obtain genus g surface\n",
    "    else:\n",
    "        for k in range(2*g-2):\n",
    "            a = s.simplex(k)\n",
    "            b = s.simplex(k+2*g)\n",
    "            a.join(2,b,Perm3(1,0,2))\n",
    "        a = s.simplex(2*g-2)\n",
    "        b = s.simplex(4*g-3)\n",
    "        a.join(2,b,Perm3(2,0,1))        \n",
    "        a = s.simplex(2*g-1)\n",
    "        b = s.simplex(0)\n",
    "        a.join(2,b,Perm3(2,0,1))   \n",
    "        \n",
    "    # add triangles as needed\n",
    "    while s.size() < n:\n",
    "        s.pachner(s.simplex(0),True,True)\n",
    "    return s\n",
    "#######################################################"
   ]
  },
  {
   "cell_type": "markdown",
   "id": "ae47fed9",
   "metadata": {},
   "source": [
    "### Propose next move \n",
    "\n",
    "This function computes probability to go up depending on state size `n` and parameter `gamma`$= 1/k$ for some natural number $k$. A return value of $i$ means an $i$-move is proposed next. "
   ]
  },
  {
   "cell_type": "code",
   "execution_count": 3,
   "id": "4e1abc60",
   "metadata": {
    "tags": []
   },
   "outputs": [],
   "source": [
    "#######################################################\n",
    "def alpha(n,gamma):\n",
    "    y= random.random()\n",
    "    a = math.exp((-1)*gamma*n)\n",
    "    # maybe to adjust later?\n",
    "    b = 1\n",
    "    if y < a:\n",
    "        return 0\n",
    "    elif y >= a and y < (b+a)/(b+1):\n",
    "        return 1\n",
    "    elif y >=(b+a)/(b+1):\n",
    "        return 2\n",
    "#######################################################"
   ]
  },
  {
   "cell_type": "markdown",
   "id": "0eec720e",
   "metadata": {},
   "source": [
    "### Compute neighbouring triangulations\n",
    "\n",
    "This function produces a dictionary of all `g`-neighbours (with isomorphism signatures as keys) of triangulation `iso` with f-vector `f`.\n",
    "\n",
    "This function uses non-standard isomorphism signatures and hence requires `regina` version 7.3 or newer."
   ]
  },
  {
   "cell_type": "code",
   "execution_count": 4,
   "id": "33d61329",
   "metadata": {
    "tags": []
   },
   "outputs": [],
   "source": [
    "#######################################################\n",
    "def neighbours(iso,f,g):\n",
    "    nbrs = {}\n",
    "    # going up (0-2-moves at every triangle)\n",
    "    if g == 0:\n",
    "        for n in range(f[2]):\n",
    "            # create copy of tri in standard iso sig labelling\n",
    "            target = Triangulation2.fromIsoSig(iso)\n",
    "            # test if move is possible and if so, perform it\n",
    "            if target.pachner(target.triangle(n), True, False):\n",
    "                target.pachner(target.triangle(n), False, True)\n",
    "                # get isomorphism signature of result, add it to neighbours\n",
    "                tiso = target.isoSig_RidgeDegrees()\n",
    "                # add edge needed to flip to obtain this neighbour (in standard iso sig labelling)\n",
    "                if not tiso in nbrs:\n",
    "                    nbrs[tiso]=n\n",
    "        return nbrs\n",
    "    # horizontally (1-1-move or edge flip at every edge contained in two triangles)\n",
    "    elif g == 1:\n",
    "        for e in range(f[1]):\n",
    "            # create copy of tri in standard iso sig labelling\n",
    "            target = Triangulation2.fromIsoSig(iso)\n",
    "            # test if move is possible and if so, perform it\n",
    "            if target.pachner(target.edge(e), True, False):\n",
    "                target.pachner(target.edge(e), False, True)\n",
    "                # get isomorphism signature of result, add it to neighbours\n",
    "                tiso = target.isoSig_RidgeDegrees()\n",
    "                # add edge needed to flip to obtain this neighbour (in standard iso sig labelling)\n",
    "                if not tiso in nbrs:\n",
    "                    nbrs[tiso]=e\n",
    "        return nbrs\n",
    "    # going doen (2-0-move at every vertex of degree three in three distinct triangles)\n",
    "    if g == 2:\n",
    "        for v in range(f[0]):\n",
    "            # create copy of tri in standard iso sig labelling\n",
    "            target = Triangulation2.fromIsoSig(iso)\n",
    "            # test if move is possible and if so, perform it\n",
    "            if target.pachner(target.vertex(v), True, False):\n",
    "                target.pachner(target.vertex(v), False, True)\n",
    "                # get isomorphism signature of result, add it to neighbours\n",
    "                tiso = target.isoSig_RidgeDegrees()\n",
    "                # add edge needed to flip to obtain this neighbour (in standard iso sig labelling)\n",
    "                if not tiso in nbrs:\n",
    "                    nbrs[tiso]=v\n",
    "        return nbrs\n",
    "#######################################################"
   ]
  },
  {
   "cell_type": "markdown",
   "id": "92ea14be",
   "metadata": {},
   "source": [
    "### Choose move from proposal\n",
    "\n",
    "This function takes a state triangulation given by isomorphism signature `iso` with f-vector `f` and paramter `gamma`. It computes a proposal, enumerates neighbours of `iso` and decides whether to perform the proposed move."
   ]
  },
  {
   "cell_type": "code",
   "execution_count": 5,
   "id": "informed-basis",
   "metadata": {
    "tags": []
   },
   "outputs": [],
   "source": [
    "###############################################################################\n",
    "def choosemove(iso, f, gamma):\n",
    "    # a==0 go up, a==1 horizontal, a==2 go down\n",
    "    a = alpha(f[2],gamma)\n",
    "    ngbrs = neighbours(iso,f,a)\n",
    "    # get number of neighbours of this type\n",
    "    num_ngbrs = len(ngbrs.keys())\n",
    "    # random number for proposal to move or stay\n",
    "    i = random.random()\n",
    "    # setup done\n",
    "    \n",
    "    # go up\n",
    "    if a == 0:\n",
    "        # stay where you are\n",
    "        if i > float(num_ngbrs)/float(f[2]):\n",
    "            return iso, f\n",
    "        # go up (very likely)\n",
    "        else:\n",
    "            return random.choice(list(ngbrs.keys())), [f[0]+1,f[1]+3,f[2]+2]\n",
    "    # edge flip\n",
    "    if a == 1:\n",
    "        # stay where you are\n",
    "        if i > float(num_ngbrs)/float(f[1]):\n",
    "            return iso, f\n",
    "        # move sideways (very likely)\n",
    "        else:\n",
    "            return random.choice(list(ngbrs.keys())), f        \n",
    "    # go down\n",
    "    elif a == 2:\n",
    "        # stay where you are\n",
    "        # avoid division by zero\n",
    "        if f[2] == 2:\n",
    "            return iso, f\n",
    "        if i > float(num_ngbrs)/float(f[2]-2):\n",
    "            return iso, f\n",
    "        # go down (unlikely)\n",
    "        else:\n",
    "            return random.choice(list(ngbrs.keys())), [f[0]-1,f[1]-3,f[2]-2]\n",
    "###############################################################################"
   ]
  },
  {
   "cell_type": "markdown",
   "id": "28dd38b7",
   "metadata": {},
   "source": [
    "### Main function\n",
    "\n",
    "This is the main function taking in see triangulation `iso` with f-vector `f`. It performs a random walk in the Pachner graph of length `steps` with parameter `gamma`. Parameter `verbose` decides print behaviour, `name` is the filename for the output file."
   ]
  },
  {
   "cell_type": "code",
   "execution_count": 6,
   "id": "scientific-plenty",
   "metadata": {
    "tags": []
   },
   "outputs": [],
   "source": [
    "###############################################################################\n",
    "def randomise(iso, f, steps, gamma, interval, offset, name):\n",
    "    # initialise number of steps\n",
    "    st = 0\n",
    "    histogram = {}\n",
    "    # save stuff to a file\n",
    "    with open(name,\"w\") as fl:\n",
    "        fl.write(\"\")\n",
    "    # open output file\n",
    "    while st < steps + offset*interval-1:\n",
    "        st += 1\n",
    "        iso, f = choosemove(iso,f,gamma)\n",
    "        if (interval != 0 and st % interval == 0 and st >= offset*interval):\n",
    "            # open output file\n",
    "            with open(name,\"a\") as fl:\n",
    "                fl.write(iso+\"\\n\")\n",
    "            print(\"collecting triangulation\",int((st-offset*interval)/interval+1),\":\",iso)\n",
    "    return True\n",
    "###############################################################################"
   ]
  },
  {
   "cell_type": "markdown",
   "id": "31516a3b",
   "metadata": {},
   "source": [
    "### Test the method\n",
    "\n",
    "A short test of our method."
   ]
  },
  {
   "cell_type": "code",
   "execution_count": 7,
   "id": "historical-latino",
   "metadata": {
    "tags": []
   },
   "outputs": [
    {
     "name": "stdout",
     "output_type": "stream",
     "text": [
      "collecting triangulation 1 : MwwLvvMvzzzzvvMLAPAPacfjmnqrtEBHDGFJGJLLfecfafccfaceeefeceff\n",
      "collecting triangulation 2 : OwvMvAzvvLLLvvLAvLQPQaegiiktryzGBIKKHNNJMMfefccfacacefaaccdabbb\n",
      "collecting triangulation 3 : OwvvvvALLMvvPwvvQMMAMaknlppquwwDDJIHFHJKMNcdcceeefffeefbbcffbaf\n",
      "collecting triangulation 4 : MwwvvLvMzzvQzzvvAQLMackpnqrvwvuyDDIFGKJLcddabdebdffcffacfbbc\n",
      "collecting triangulation 5 : KwLvvvvPLwvvMPzAMLQadqqmoAuDwCFCBEGJJIccccbcacdbeaabbfbbf\n",
      "collecting triangulation 6 : KwvzLvLvLLwwAPzvPwQafhotvpvxxwyBEHHGIJcddaaabcccbcffeabbc\n",
      "collecting triangulation 7 : EwLvLvvzLLvLQPAMadgqnsyzzABBxxCDccbafedaadaeffdb\n",
      "collecting triangulation 8 : IwvLvvvPMzwwMwwzPMafqlospuwvyyzEGEFHccabeaaaaeffcaabff\n",
      "collecting triangulation 9 : MwLvwwPzvvvvMPwvPvQQadhhmkmAzywxHEIGIJKLffdfabeabbbfdbafccfb\n",
      "collecting triangulation 10 : KwLvvvzzvvALLPAwwPQadjquxzvxwyzEGFGHIJccbadedcbffeaacbfbf\n",
      "collecting triangulation 11 : IwLLvzwwwvvvMQzvQMaegilnpwvBAzBGEFFHcacbdaaebebfaafcff\n",
      "collecting triangulation 12 : KwLvvLvLAwLvwLvwQPQaelprrnsuDABGGJHHJIcacaafbdfbccddbcbcc\n",
      "collecting triangulation 13 : MwLvvvvMLLLQvzwLLMMPaekqopxxwvwBFEEHHKLLcafebfeeeefbdcceeaac\n",
      "collecting triangulation 14 : GwvLvzAvPvvzwAwMQahhkmnruuAABBEFFEccfbdcdcbaaffbfcb\n",
      "collecting triangulation 15 : IwvLvvLvzvLAwvQQwQaeknruvuEFDDBCAFGHcffcffcfeeccfffcff\n",
      "collecting triangulation 16 : IwvLLvLvMzvAwzzLMQaegopssvvxBACFFHHGcfbaaaadecabfebaab\n",
      "collecting triangulation 17 : IwvLvvvvwQzLMwvQPPaemvopqzvwwADEGEGHcffadfbafaaffbacaf\n",
      "collecting triangulation 18 : GwvvLvzzQvzAwvzPQaiklponrtwvCCDDEFcdffdbbceffdbbfcf\n",
      "collecting triangulation 19 : MwvvMwwvwvvAPAvwLLQPaghiknvuzxxwEIFGKKLLcccaccecabbfacbcdecc\n",
      "collecting triangulation 20 : KwvvLvALvPAwwvLzzAQaknilsurtswCBFEGJIJcaabffaccbcdcebcdba\n",
      "collecting triangulation 21 : IwvvvwQwvvPMLvzzPQahnkllwvuxvzCGGHFHfcfcbbeaaabfcaaecd\n",
      "collecting triangulation 22 : KwLLvzvvvPMvQLMzLLMadgirrqwyxvzACDFHIJfbebbbbaaafcfedbcdf\n",
      "collecting triangulation 23 : QwvvLPLvvvAwMwAvLLLzAQaillnqrsyzzBBIJLLKNNOPfaaaabffaaaaaaaedbcccb\n",
      "collecting triangulation 24 : MwwvvLvvzvzwMzQALvQMacmtqzxyDzEyCEDIHKKLfaaafacfabebacfafbbc\n",
      "collecting triangulation 25 : KwvLvLvwvvMzLMvPQPMahmpryxCyxHADFDIGIJcbeabaeaecafbdbdbdc\n",
      "collecting triangulation 26 : OwwvvLvvwvwMzAvzPMMAPaclswqsuAxEDEJFHLILMNcdaaacbbacdccdbfeccbc\n",
      "collecting triangulation 27 : QwvvLzLvwvLALvAwPzMMLPakkorvrszzyAFFJILLKNOPfaaaabbfacbfafabaacebb\n",
      "collecting triangulation 28 : OwLvvLvvLLPAzLzvvPzQQaekpwuqttvzzJJMNINMKLcaccddfbbcfbffaabaefc\n",
      "collecting triangulation 29 : MwvvvwMMwwvvvAzLMLMQahnjkmprCyyFHGEGIJKLfcfcbbedafbaabbccbfc\n",
      "collecting triangulation 30 : GwvvLLvvLAvzQwQwMagmsnosvvAwyCCBEFcbadfcbaadccadaac\n",
      "collecting triangulation 31 : IwvzvLvLzLLAMwzzPPaejqqorsvyzxCBGEHHfecdbccfcdacacafae\n",
      "collecting triangulation 32 : OwvLvwzAzLzzvLvwvAMAQahgmooqtrvCBKKGHMIMLNffbaddbabdafaacbafecb\n",
      "collecting triangulation 33 : OwvvvLLLvvQzLMvMPvzAQakpnxrrsvwADGCEHMLNMNfdafafcbfbaadbccafadd\n",
      "collecting triangulation 34 : QwLvvvLMvLzQvzvzvAMLPQadjkpvqsxxADKEGHJPOOPNcccffabbeaeeffbfbffbfb\n",
      "collecting triangulation 35 : MwwvvLzMvwwvwwQvvQAPacjlnpouzBCDCEJJIHKLfececdfadadddcbbfbbc\n",
      "collecting triangulation 36 : KwvvvvLvPMvvvQLPMQPaqtoqoDvwAFEGGIIFJJcaabafacfdfbcfeebdd\n",
      "collecting triangulation 37 : MwvLLvvzLvMzvLMMzMAPaehlqvusDDCCBGFGIJLLffccfeeeaeeebafdcbff\n",
      "collecting triangulation 38 : QwLvLvvLLLLMMLvwvPPwzQadioqtsvxxyABGJHKLMNOPcccfeeffcbeabeebcbafcb\n",
      "collecting triangulation 39 : OwvLvvvLPvvwAAwPzAvPQaesmstuBCCzDEBFIMKNMNffababbaaafdabbaffeba\n",
      "collecting triangulation 40 : OwvvLvvvPPvAvvMwAMMLQakpnqrutECBGGDJFINNMMcaafeebcfcceefefcddcc\n",
      "collecting triangulation 41 : QwvvLvvLPLvwPLzvQQwzLPagpqqoyxzwBIDFFEGHLNPPcbeaaaaadabafaafcbcccc\n",
      "collecting triangulation 42 : OwLvzvPLvLLzvMLwMzzAPadhjlotrwyBzBDHGJLKMNcceffdebaeefffcfeaffc\n",
      "collecting triangulation 43 : SwwvvvvvAvvPwLMPMvQLMLPaclsByAFDzAHBCIGINLMQQRcdcdaddadccdbbfcbefbabb\n",
      "collecting triangulation 44 : MwLLvvwvwvzMALzwzAwQadgjmtryvuzzCFEIHLKLffaebeffbfeefdfcbfbc\n",
      "collecting triangulation 45 : IwLvvwvvMvzvQLPPPMaehsnuAuxBCyEEFFGHfaeafdcfcfabedccfc\n",
      "collecting triangulation 46 : KwwvvLvvzzwvwMAAPLQacmoostwxACzBEFGHJJcddcbebcbedbccccccc\n",
      "collecting triangulation 47 : OwvvvvLvQvzzAwzAMPzzPajlorqvuzAEDAGHFIJKNNfffcdebcedabfaaebafff\n",
      "collecting triangulation 48 : OwvvLLLvvzPPLzzzvzAQPajmoqtrytwyzCGLKKJMNNcaaadbfdfdcbdcaeccaac\n",
      "collecting triangulation 49 : MwvvvvLvPzvzvQvzQAAQantsnwCCwBFFBJEHHKLLffaabcaacadffbfccaaf\n",
      "collecting triangulation 50 : SwLvvwvzLvAvvLALMvzLQQPaekmrqrExEIHDMJMKLQOORRcaadacaabeaebaffbfebbaa\n",
      "collecting triangulation 51 : MwvPvvvPvwzLvLvwMQMQafenmpwxCzJCGGKHHLLKcdfffcaeafabddaabddf\n",
      "collecting triangulation 52 : OwwvvvvMvvzvQwPQLzLMMackrttzuvByCFBFIKLLMNcdeaebccbbcaafcaaacac\n",
      "collecting triangulation 53 : QwwLvvvLvLzwALvMvwQPMPacgpsvryuAzHFKMJNINLPPcdaabffafdfedcafececee\n",
      "collecting triangulation 54 : OwwvvvLLwvzzvPAPvAMwQacmlpqtwDEABDJIKLHLNNfeefffcfddebcdaaabbcc\n",
      "collecting triangulation 55 : KwvwLwvLvwvvzQMAMvQaeiiooyyxCwADCEGHIJcaddddabbfffdbdafcf\n",
      "collecting triangulation 56 : KwLvwvvPvALPzvPAzLMaehopnqsuwyzBDCFIHJcaaacfccfdeffcbfabc\n",
      "collecting triangulation 57 : MwvLvwvAAzvvMMMzvwAPagklomnqxxwABACHHILLccabafbbccfddebabfbb\n",
      "collecting triangulation 58 : MwvvLzPvzwvvQzQvPvMMakikmnsuxwxzBAGGHKJLfaecccabcccacbaacafb\n",
      "collecting triangulation 59 : KwvvMvvvwzzAAzPAwwMaijotxwxsvyBBCCEGIJcaadaaeebfeffeeaaac\n",
      "collecting triangulation 60 : GwLvvvvLzLLLPQzPPadnqtutvyBwABDCEFffcbeeefbdbfdafcc\n",
      "collecting triangulation 61 : MwLvvLLzzwLvLwvPwQPMaejmonswyyBBCIJFHKKLcabeecaaeeffcddcfdef\n",
      "collecting triangulation 62 : IwvLvPvwvwMAvvvAQQahhlnorsvuEBCEDGGHffffacafbfacafcbbc\n",
      "collecting triangulation 63 : MwLwLvwvLwzwvMvwLLQQadeikopruxABDGJKHJKLcceecdcfdefcbfcdccaf\n",
      "collecting triangulation 64 : OwwLLvLvvzLwvALQzLLMPacfiltvwByAzCCGJJILMNfeceaaaaabbfcbaacccbb\n",
      "collecting triangulation 65 : QwwvvvvvwwLPzMLAvwzMAQactqyruvvyzAEJMJIKMNOPfeacebafcbcffacfcccfcc\n",
      "collecting triangulation 66 : SwvzvvLvwvAwzzvzLwQPMPPaejqpsrvzGLLEFGNONPPMRRfefabfcfbdaeffbeaaaacff\n",
      "collecting triangulation 67 : QwLvwwvvvvvPvPPzvQMwPQaehhBywwFAHDDGGJILNNOPfadeaddedfebbbbbbfeafc\n",
      "collecting triangulation 68 : QwvzLvzwvvzvALvPPMALAPaehmkxBvBIECIEKFGNLMOPfeaacdabdeccacefcadbbc\n",
      "collecting triangulation 69 : IwLvvwvvvzAQPMvLPPadjopqwvtxxzyFDGGHccbbbbbbbbbdbaccfc\n",
      "collecting triangulation 70 : KwwvvvLLPAwvzwwMPwPacklqrppszwCAFFGEIJcdecfefcdebccabffbf\n",
      "collecting triangulation 71 : MwwvLLvvvwwvLQQLMzzPachitpwDyxyAzCFEGJKLcdcbafeeccccbfeccbcb\n",
      "collecting triangulation 72 : MwvLMvwvLLAvMvvPMvPQahfgjrssqwyCFDGLLIJKfffbbaeebacbefaddfcf\n",
      "collecting triangulation 73 : QwvwMLvwvLzzvQvvLAAzPPafhiklqrvwyyGEGJKJNMPPfaaaabecabbbdfadfbfbff\n",
      "collecting triangulation 74 : OwvAvLvAvvMvwvLPPwMPMadfjolvszCHADIIGLKKMNcfbcacacaaebbaaceffcc\n",
      "collecting triangulation 75 : GwvLwLvzvvALwAMAMahgilwrytBBxDCAEFffcbbdbafaacefbcf\n",
      "collecting triangulation 76 : OwLvvLPwLLvLLwvzwPAAPadinlkoqyvwGCEFIJLLNNfffdafbcdcfdcfcacedcc\n",
      "collecting triangulation 77 : OwvLPvMvwvvvzPzMLvQAPaehgkmozwCEABGLJHIKMNffbbdbcccaecccaecbcbb\n",
      "collecting triangulation 78 : KwvLwMvvvLLLAzLMMwPahhjiurtxwzACFDGGIJfffdbdbfdfcdfacddbc\n",
      "collecting triangulation 79 : OwLzvLLvwzLLvLvzQzzQPadfinoqtwxGDIHJJIKLMNfffbdfcfefaeeafbfebcb\n",
      "collecting triangulation 80 : IwvzvwvLLzPLwvPwAQaeklrrqswxzDADEGGHfeabcffdbecebadccc\n",
      "collecting triangulation 81 : KwLvvLLvvvPLMvPQvPQaejmtvxxBFDEEFJJGHIfafdaaaafaaaadaabcb\n",
      "collecting triangulation 82 : IwvLvLvvPvQvwMPMwPaeiqsqprxyyzACDEGHcfddebccffcccbbafc\n",
      "collecting triangulation 83 : IwLLLLLvvvvAwwQLLQaefhkmsvwxACzFFEGHcacaaafbedbdbacbff\n",
      "collecting triangulation 84 : MwvLMvvMvwzLvwLwAwMQahfglpoutwEBGHDGJJKLffbbbebafcccedcaccbb\n",
      "collecting triangulation 85 : MwLvvLvzLLLAPzLvwMwQaelktquvwuzzAFEGIJLLcacbebaadfddcfbfcfcc\n",
      "collecting triangulation 86 : KwvzLwwvvLzAwAvALLQaehikqvswwyxEBHJJIIfeeaafeaccabacaaaff\n",
      "collecting triangulation 87 : KwvALvvwvwvMvLLAMMQafeiosrtACEzGGEIHIJfaeaaebbfedfdccbbcf\n",
      "collecting triangulation 88 : OwLvLAvAvvvwvMvAwwQLQaegiimmuwyCAHFHKLNMLNcacccaaabbefafadddacc\n",
      "collecting triangulation 89 : MwvLvLLzwwzzwQwvwwAPaejlpnrvxyxzAzDFJJLLffabadcedaaddfccaaff\n",
      "collecting triangulation 90 : SwvvvwzwvMzvzPzMwvLwQAPahknqtwwxxzBDCNLJKMNORRfcccdcddbbbcbbdecffcbcc\n",
      "collecting triangulation 91 : OwwvPvwvvwwwLwLwPvAPQachgjoqswxBCIDGKKJMMNfedffbfbeecebcbeebbbf\n",
      "collecting triangulation 92 : KwwvPwLvvwwvwMLzMPPachgilrsuzxAECHHIJJfedfbfbefecfdcaadab\n",
      "collecting triangulation 93 : EwwLvLLvwALvAPzPacfknnpqvwyxAADDcaccaffcefffacbb\n",
      "collecting triangulation 94 : IwvvLvwwvAzAzLALLQajipqqsttyxzBFGHHGfaeaeebccbffdacaac\n",
      "collecting triangulation 95 : IwvAvvLwvzzvMwMvQQafelmqvzAACyHFDEHGfaebdcaaddebaebbbc\n",
      "collecting triangulation 96 : GwLvvLvvwvAzwQPPMaelpwqztBBADDEECFfabeacadeebaaadaf\n",
      "collecting triangulation 97 : KwLvwvLAvvzvLQvLMMQadfomouBvyyGHIDJFHJccbaaaeaceaadafabca\n",
      "collecting triangulation 98 : KwLLvwzvvLMwvwzzAMQaegilptstwzGHGEHFIJcaccecaaecbaacffbcc\n",
      "collecting triangulation 99 : OwwvvMLLzLLLLvzPMzzzMackllpqrsuxCFEFGHJLMNfeaaeedfbbcdaadaaccac\n",
      "collecting triangulation 100 : SwLLvvMzwvzzwvvwzQwzALQadgknomrxvGJDFEJKOMRQPRccaaaabfafaabbbefefaaff\n",
      "time spent: 29.565930604934692\n"
     ]
    }
   ],
   "source": [
    "# genus of orientable surface to sample triangulations from\n",
    "genus = 2\n",
    "# create minimal triangulation of surface\n",
    "s = surface(genus,max(2,4*genus-2))\n",
    "# starting iso sig\n",
    "iso = s.isoSig_RidgeDegrees()\n",
    "# starting f-vector\n",
    "f = s.fVector()\n",
    "# number of steps (not including offset)\n",
    "steps = 10000\n",
    "# interval (number of steps between samples)\n",
    "interval = 100\n",
    "# offset (number of omitted samples at beginning of sequence)\n",
    "offset = 100\n",
    "# paramter\n",
    "gamma = 1/10\n",
    "# collection interval\n",
    "verb = 10\n",
    "# file to store raw sampling data in\n",
    "filename = \"out_genus_\"+str(genus)+\"_gamma_\"+str(gamma)+\".txt\"\n",
    "\n",
    "\n",
    "ttt = time.time()\n",
    "trigs = randomise(iso, f, steps, gamma, interval, offset, filename)\n",
    "print(\"time spent:\",time.time()-ttt)"
   ]
  },
  {
   "cell_type": "code",
   "execution_count": 8,
   "id": "42b1482d",
   "metadata": {
    "tags": []
   },
   "outputs": [
    {
     "data": {
      "text/plain": [
       "True"
      ]
     },
     "execution_count": 8,
     "metadata": {},
     "output_type": "execute_result"
    }
   ],
   "source": [
    "trigs"
   ]
  },
  {
   "cell_type": "code",
   "execution_count": 9,
   "id": "c12bfb21-5055-43c1-81c1-68e7a313f72b",
   "metadata": {
    "tags": []
   },
   "outputs": [
    {
     "data": {
      "text/plain": [
       "'gvLQdeffbaec'"
      ]
     },
     "execution_count": 9,
     "metadata": {},
     "output_type": "execute_result"
    }
   ],
   "source": [
    "iso"
   ]
  },
  {
   "cell_type": "code",
   "execution_count": 10,
   "id": "887a8d94-c7e5-4a5e-a669-72fa3435cc1f",
   "metadata": {
    "tags": []
   },
   "outputs": [
    {
     "data": {
      "text/plain": [
       "[1, 9, 6]"
      ]
     },
     "execution_count": 10,
     "metadata": {},
     "output_type": "execute_result"
    }
   ],
   "source": [
    "f"
   ]
  },
  {
   "cell_type": "code",
   "execution_count": 11,
   "id": "81734492-e18c-45d5-9bd1-0f5353c5df5e",
   "metadata": {
    "tags": []
   },
   "outputs": [
    {
     "data": {
      "text/plain": [
       "[1, 9, 6]"
      ]
     },
     "execution_count": 11,
     "metadata": {},
     "output_type": "execute_result"
    }
   ],
   "source": [
    "s.fVector()"
   ]
  },
  {
   "cell_type": "code",
   "execution_count": null,
   "id": "94a36bf8-0498-4a77-ba47-cf752ba81e20",
   "metadata": {},
   "outputs": [],
   "source": []
  }
 ],
 "metadata": {
  "kernelspec": {
   "display_name": "Python 3 (ipykernel)",
   "language": "python",
   "name": "python3"
  },
  "language_info": {
   "codemirror_mode": {
    "name": "ipython",
    "version": 3
   },
   "file_extension": ".py",
   "mimetype": "text/x-python",
   "name": "python",
   "nbconvert_exporter": "python",
   "pygments_lexer": "ipython3",
   "version": "3.11.5"
  }
 },
 "nbformat": 4,
 "nbformat_minor": 5
}
