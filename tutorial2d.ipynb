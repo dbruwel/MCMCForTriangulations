{
 "cells": [
  {
   "cell_type": "markdown",
   "id": "clean-newark",
   "metadata": {},
   "source": [
    "# Full method for $d=2$ (Algorithm 1)\n",
    "\n",
    "This notebook contains a complete working example of Algorithm 1 from the paper \n",
    "\n",
    "<i>Sampling triangulations of manifolds using Monte Carlo methods</i>, by <a href=\"https://www.maths.usyd.edu.au/u/ega/\">Eduardo Altmann</a> and <a href=\"https://sites.google.com/view/jonathan-spreer/\">Jonathan Spreer</a>, <a href=\"https://arxiv.org/abs/2310.07372\"> arXiv:2310.07372 </a>.\n"
   ]
  },
  {
   "cell_type": "code",
   "execution_count": 55,
   "id": "hungry-lindsay",
   "metadata": {
    "tags": []
   },
   "outputs": [],
   "source": [
    "# Imports\n",
    "import time, math, random, sys\n",
    "\n",
    "# import all functions etc. from regina\n",
    "from regina import *\n",
    "\n",
    "# Functions to perform MCMC in d=2\n",
    "sys.path.append(\"./src/\")\n",
    "from functions2d import *"
   ]
  },
  {
   "cell_type": "markdown",
   "id": "15e779aa-5714-4763-84f4-2b4135982280",
   "metadata": {
    "tags": []
   },
   "source": [
    "### Initialization"
   ]
  },
  {
   "cell_type": "code",
   "execution_count": 21,
   "id": "historical-latino",
   "metadata": {
    "tags": []
   },
   "outputs": [],
   "source": [
    "# choose the genus of the orientable surface to sample triangulations from\n",
    "genus = 1\n",
    "\n",
    "#choose the paramter gamma of the MCMC method\n",
    "gamma = 1/5\n",
    "\n",
    "# we start at the minimal triangulation of surface 's', with signature 'iso' (state of the mcmc)\n",
    "s = surface(genus,max(2,4*genus-2))\n",
    "iso = s.isoSig_RidgeDegrees()"
   ]
  },
  {
   "cell_type": "markdown",
   "id": "a1dabee7-73e1-4625-930e-6fc9db9bfd19",
   "metadata": {
    "jp-MarkdownHeadingCollapsed": true,
    "tags": []
   },
   "source": [
    "### Simple iterations"
   ]
  },
  {
   "cell_type": "markdown",
   "id": "edbffadf-fb2d-4b90-951b-fbeaf11c20e7",
   "metadata": {},
   "source": [
    "Inital triangulation:"
   ]
  },
  {
   "cell_type": "code",
   "execution_count": 42,
   "id": "5b9fc8db-ecc6-4470-a488-faaff2f18832",
   "metadata": {
    "tags": []
   },
   "outputs": [
    {
     "data": {
      "text/plain": [
       "'cPbbde'"
      ]
     },
     "execution_count": 42,
     "metadata": {},
     "output_type": "execute_result"
    }
   ],
   "source": [
    "iso"
   ]
  },
  {
   "cell_type": "markdown",
   "id": "9b298a63-a322-41f3-98a3-3bc9c4f0bb28",
   "metadata": {},
   "source": [
    "Triangulation after one iteration"
   ]
  },
  {
   "cell_type": "code",
   "execution_count": 43,
   "id": "13590986-3fa2-4635-ad1d-df808d7e0b1d",
   "metadata": {
    "tags": []
   },
   "outputs": [
    {
     "data": {
      "text/plain": [
       "'evQcddbfc'"
      ]
     },
     "execution_count": 43,
     "metadata": {},
     "output_type": "execute_result"
    }
   ],
   "source": [
    "iterate(iso,gamma)"
   ]
  },
  {
   "cell_type": "markdown",
   "id": "5ccd9940-4efa-4508-93ce-8edf632d7f91",
   "metadata": {},
   "source": [
    "Triangulation after 10 iterations"
   ]
  },
  {
   "cell_type": "code",
   "execution_count": 44,
   "id": "07c7c18f-d026-4955-87d3-b046693579f1",
   "metadata": {
    "tags": []
   },
   "outputs": [
    {
     "data": {
      "text/plain": [
       "'gvLQfdefabab'"
      ]
     },
     "execution_count": 44,
     "metadata": {},
     "output_type": "execute_result"
    }
   ],
   "source": [
    "iterate(iso,gamma,steps=10)"
   ]
  },
  {
   "cell_type": "markdown",
   "id": "1be53e9e-e6e5-437d-b82e-047706868fce",
   "metadata": {},
   "source": [
    "Properties of the (new) triangulation"
   ]
  },
  {
   "cell_type": "code",
   "execution_count": 45,
   "id": "a955ae72-1ad5-4a50-bd3e-9a97a66c6817",
   "metadata": {
    "tags": []
   },
   "outputs": [
    {
     "name": "stdout",
     "output_type": "stream",
     "text": [
      "Size of the skeleton:\n",
      "  Triangles: 6\n",
      "  Edges: 9\n",
      "  Vertices: 3\n",
      "\n",
      "Triangle gluing:\n",
      "  Triangle  |  glued to:     (01)     (02)     (12)\n",
      "  ----------+--------------------------------------\n",
      "         0  |              3 (01)   2 (02)   1 (12)\n",
      "         1  |              5 (01)   4 (02)   0 (12)\n",
      "         2  |              3 (02)   0 (02)   5 (12)\n",
      "         3  |              0 (01)   2 (01)   4 (12)\n",
      "         4  |              5 (02)   1 (02)   3 (12)\n",
      "         5  |              1 (01)   4 (01)   2 (12)\n",
      "\n",
      "Vertices:\n",
      "  Triangle  |  vertex:    0   1   2\n",
      "  ----------+----------------------\n",
      "         0  |             0   1   1\n",
      "         1  |             2   1   1\n",
      "         2  |             0   1   1\n",
      "         3  |             0   1   1\n",
      "         4  |             2   1   1\n",
      "         5  |             2   1   1\n",
      "\n",
      "Edges:\n",
      "  Triangle  |  edge:   01  02  12\n",
      "  ----------+--------------------\n",
      "         0  |           0   1   2\n",
      "         1  |           3   4   2\n",
      "         2  |           5   1   6\n",
      "         3  |           0   5   7\n",
      "         4  |           8   4   7\n",
      "         5  |           3   8   6\n",
      "\n",
      "\n"
     ]
    }
   ],
   "source": [
    "isoNew = iterate(iso,gamma,steps=10)\n",
    "sNew=Triangulation2.fromIsoSig(isoNew) # Regina triangulation\n",
    "fNew = sNew.fVector()\n",
    "print(sNew.detail())"
   ]
  },
  {
   "cell_type": "markdown",
   "id": "dbb9e98a-b3d4-441e-87a5-d285dcb90a56",
   "metadata": {},
   "source": [
    "### MCMC convergence\n",
    "\n",
    "Here we compute and plot how the size of the triangulation evolves with the number of iterations"
   ]
  },
  {
   "cell_type": "code",
   "execution_count": 47,
   "id": "b7544884-0a88-4d9d-9c4a-44ad038541ad",
   "metadata": {
    "tags": []
   },
   "outputs": [],
   "source": [
    "ns=[]\n",
    "isoNew=iso\n",
    "for t in range(600):\n",
    "    isoNew=iterate(isoNew,gamma)\n",
    "    sNew=Triangulation2.fromIsoSig(isoNew) # Regina triangulation\n",
    "    fNew = sNew.fVector()\n",
    "    ns.append(fNew[2])"
   ]
  },
  {
   "cell_type": "code",
   "execution_count": 48,
   "id": "108c20a7-7f14-4d55-a5ff-822d5764eab1",
   "metadata": {
    "tags": []
   },
   "outputs": [
    {
     "data": {
      "image/png": "[encoded data removed]",
      "text/plain": [
       "<Figure size 640x480 with 1 Axes>"
      ]
     },
     "metadata": {},
     "output_type": "display_data"
    }
   ],
   "source": [
    "import matplotlib.pyplot as plt\n",
    "plt.plot(range(len(ns)),ns,\"--o\",label=r\"$\\gamma$=\"+str(gamma))\n",
    "plt.title(r\"$d=2$ and genus $g=$\"+str(genus))\n",
    "plt.xlabel(r\"$t$ (Markov moves)\")\n",
    "plt.ylabel(r\"$n$ (Number of triangles\")\n",
    "plt.legend()\n",
    "plt.show()"
   ]
  },
  {
   "cell_type": "markdown",
   "id": "86b16f50-beef-4bb4-8d3a-195e52bdfdf7",
   "metadata": {},
   "source": [
    "### Sampling data\n",
    "\n",
    "These functions allow for a more efficient sampling of triangulations"
   ]
  },
  {
   "cell_type": "code",
   "execution_count": 49,
   "id": "7bc12fd5-a5dd-4df9-94dc-c5818049c5ce",
   "metadata": {
    "tags": []
   },
   "outputs": [
    {
     "name": "stdout",
     "output_type": "stream",
     "text": [
      "collecting triangulation 1  of  10  : iLvAPbefhhacffc\n",
      "collecting triangulation 2  of  10  : wwLvwLzzwwzQadfjkoprsvuvfffcfadaadba\n",
      "collecting triangulation 3  of  10  : wwvzvvPvAzMQafkjprqquutvcdcfccfffffb\n",
      "collecting triangulation 4  of  10  : ywvLAwvvMvMwQaffhioqrstwxxcbbfdbebcbfbc\n",
      "collecting triangulation 5  of  10  : wwvzvwLPMzLPaekklnpqquvvfeabbbbdaaaf\n",
      "collecting triangulation 6  of  10  : swwLvMwwzPacfijkmorrfefeffdbff\n",
      "collecting triangulation 7  of  10  : uwwvvLLLzQMacmkppsqrrtfeaebceeefc\n",
      "collecting triangulation 8  of  10  : owLvLvQPadimjlnnfbcacfee\n",
      "collecting triangulation 9  of  10  : qwvzLMLvQafijklppocdadafffb\n",
      "collecting triangulation 10  of  10  : uwvvvvwAQPMajlqqmnsrrtcafaafcabbb\n"
     ]
    }
   ],
   "source": [
    "mcmc2d(iso,gamma)"
   ]
  },
  {
   "cell_type": "markdown",
   "id": "2ba5d2cf-6ee3-4743-bd10-44f70dc56f9b",
   "metadata": {},
   "source": [
    "We can choose the number of samples, the interval between collecting samples, and the offset starting from which they're collected:"
   ]
  },
  {
   "cell_type": "code",
   "execution_count": 51,
   "id": "2fb5f695-d186-4e72-953f-b7d9ba4e5730",
   "metadata": {
    "tags": []
   },
   "outputs": [
    {
     "name": "stdout",
     "output_type": "stream",
     "text": [
      "collecting triangulation 1  of  5  : qwvAvvMPPadfmmonopcfbadaecf\n",
      "collecting triangulation 2  of  5  : qwwwLLLLPacehjmoppcdeffacaa\n",
      "collecting triangulation 3  of  5  : swvzLLzwLQafhjlmppqrceacddccfc\n",
      "collecting triangulation 4  of  5  : wwwLLvLvAzLQacgimoprvvuucdafdfbdaacc\n",
      "collecting triangulation 5  of  5  : swvLwvwAPPahhlomppqrffffaabfbf\n",
      "time spent: 0.9134695529937744\n"
     ]
    }
   ],
   "source": [
    "ttt = time.time()\n",
    "mcmc2d(iso,gamma,samples=5,interval=200,offset=1000)\n",
    "print(\"time spent:\",time.time()-ttt)"
   ]
  },
  {
   "cell_type": "markdown",
   "id": "b5011d3d-73ae-472b-9204-0f67f259e0b8",
   "metadata": {},
   "source": [
    "For longer simulations, it is best to save the sampled triangulations to a file (in the folder \"output\"), which can later be studied."
   ]
  },
  {
   "cell_type": "code",
   "execution_count": 53,
   "id": "1591dda0-f225-47fd-ba2c-f90ff3e6f3db",
   "metadata": {
    "tags": []
   },
   "outputs": [
    {
     "name": "stdout",
     "output_type": "stream",
     "text": [
      "time spent: 5.0022759437561035\n"
     ]
    }
   ],
   "source": [
    "ttt = time.time()\n",
    "mcmc2d(iso,gamma,samples=100,offset=1000,verbose=False,printToFile=\"genus=\"+str(genus))\n",
    "print(\"time spent:\",time.time()-ttt)"
   ]
  },
  {
   "cell_type": "code",
   "execution_count": 54,
   "id": "e85a8a4e-7c3b-4f4f-92ca-77f41510c9a2",
   "metadata": {
    "tags": []
   },
   "outputs": [
    {
     "name": "stdout",
     "output_type": "stream",
     "text": [
      "'mcmc2d_genus=1_gamma_0.2_samples_100.txt'\n"
     ]
    }
   ],
   "source": [
    "!ls outputs/"
   ]
  }
 ],
 "metadata": {
  "kernelspec": {
   "display_name": "Python 3 (ipykernel)",
   "language": "python",
   "name": "python3"
  },
  "language_info": {
   "codemirror_mode": {
    "name": "ipython",
    "version": 3
   },
   "file_extension": ".py",
   "mimetype": "text/x-python",
   "name": "python",
   "nbconvert_exporter": "python",
   "pygments_lexer": "ipython3",
   "version": "3.11.5"
  }
 },
 "nbformat": 4,
 "nbformat_minor": 5
}
